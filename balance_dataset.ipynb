{
 "cells": [
  {
   "cell_type": "code",
   "execution_count": 15,
   "metadata": {},
   "outputs": [],
   "source": [
    "import os\n",
    "from collections import defaultdict\n",
    "from tensorflow.keras.preprocessing.image import ImageDataGenerator, load_img\n",
    "from tensorflow.keras.preprocessing.image import img_to_array\n",
    "import matplotlib.pyplot as plt\n",
    "import seaborn as sns\n",
    "import pandas as pd"
   ]
  },
  {
   "cell_type": "code",
   "execution_count": 16,
   "metadata": {},
   "outputs": [],
   "source": [
    "dataset_path ='chest_xray'"
   ]
  },
  {
   "cell_type": "code",
   "execution_count": 17,
   "metadata": {},
   "outputs": [],
   "source": [
    "subfolders = [\"train\"]"
   ]
  },
  {
   "cell_type": "code",
   "execution_count": 18,
   "metadata": {},
   "outputs": [],
   "source": [
    "classes = ['PNEUMONIA', 'NORMAL']"
   ]
  },
  {
   "cell_type": "code",
   "execution_count": 19,
   "metadata": {},
   "outputs": [],
   "source": [
    "image_counts = defaultdict(lambda: defaultdict(int))"
   ]
  },
  {
   "cell_type": "code",
   "execution_count": 20,
   "metadata": {},
   "outputs": [],
   "source": [
    "for subfolder in subfolders:\n",
    "    for class_name in [\"PNEUMONIA\", \"NORMAL\"]:\n",
    "        class_path = os.path.join(dataset_path, subfolder, class_name)\n",
    "        image_counts[subfolder][class_name] = len(os.listdir(class_path))\n"
   ]
  },
  {
   "cell_type": "code",
   "execution_count": 21,
   "metadata": {},
   "outputs": [],
   "source": [
    "counts = {}"
   ]
  },
  {
   "cell_type": "code",
   "execution_count": 22,
   "metadata": {},
   "outputs": [
    {
     "name": "stdout",
     "output_type": "stream",
     "text": [
      "Counts for train:\n",
      " - PNEUMONIA: 3876\n",
      " - NORMAL: 1342\n"
     ]
    }
   ],
   "source": [
    "for subfolder in subfolders:\n",
    "    print(f\"Counts for {subfolder}:\")\n",
    "    for class_name in [\"PNEUMONIA\", \"NORMAL\"]:\n",
    "        print(f\" - {class_name}: {image_counts[subfolder][class_name]}\")\n",
    "        counts[class_name] = image_counts[subfolder][class_name]\n"
   ]
  },
  {
   "cell_type": "code",
   "execution_count": 23,
   "metadata": {},
   "outputs": [
    {
     "data": {
      "text/plain": [
       "{'PNEUMONIA': 3876, 'NORMAL': 1342}"
      ]
     },
     "execution_count": 23,
     "metadata": {},
     "output_type": "execute_result"
    }
   ],
   "source": [
    "counts"
   ]
  },
  {
   "cell_type": "code",
   "execution_count": 24,
   "metadata": {},
   "outputs": [
    {
     "data": {
      "image/png": "[encoded data removed]",
      "text/plain": [
       "<Figure size 576x360 with 1 Axes>"
      ]
     },
     "metadata": {
      "needs_background": "light"
     },
     "output_type": "display_data"
    }
   ],
   "source": [
    "categories = ['Pneumonia', 'Normal']\n",
    "num = [counts['PNEUMONIA'], counts['NORMAL']]\n",
    "\n",
    "# Convert data to a pandas DataFrame\n",
    "data = pd.DataFrame({\n",
    "    'Category': categories,\n",
    "    'Count': num\n",
    "})\n",
    "\n",
    "# Create a bar plot using seaborn\n",
    "plt.figure(figsize=(8, 5))\n",
    "sns.barplot(x='Category', y='Count', data=data,)\n",
    "\n",
    "# Adding titles and labels\n",
    "plt.title('Counts of Pneumonia vs Normal Cases')\n",
    "plt.xlabel('Categories')\n",
    "plt.ylabel('Counts')\n",
    "\n",
    "# Show the plot\n",
    "plt.show()"
   ]
  },
  {
   "cell_type": "code",
   "execution_count": 25,
   "metadata": {},
   "outputs": [
    {
     "name": "stdout",
     "output_type": "stream",
     "text": [
      "chest_xray\\train\\NORMAL\n"
     ]
    }
   ],
   "source": [
    "normal_train_path = os.path.join(dataset_path, \"train\", \"NORMAL\")\n",
    "print(normal_train_path)"
   ]
  },
  {
   "cell_type": "code",
   "execution_count": 26,
   "metadata": {},
   "outputs": [],
   "source": [
    "pneumonia_count = 3876\n",
    "normal_count = 1342\n",
    "images_to_generate = pneumonia_count - normal_count"
   ]
  },
  {
   "cell_type": "code",
   "execution_count": 27,
   "metadata": {},
   "outputs": [],
   "source": [
    "datagen = ImageDataGenerator(\n",
    "    rotation_range=10,\n",
    "    width_shift_range=0.1,\n",
    "    height_shift_range=0.1,\n",
    "    shear_range=0.1,\n",
    "    zoom_range=0.1,\n",
    "    horizontal_flip=True,\n",
    "    fill_mode='nearest'\n",
    ")"
   ]
  },
  {
   "cell_type": "code",
   "execution_count": 28,
   "metadata": {},
   "outputs": [],
   "source": [
    "normal_images = os.listdir(normal_train_path)\n",
    "generated_count = 0"
   ]
  },
  {
   "cell_type": "code",
   "execution_count": 29,
   "metadata": {},
   "outputs": [
    {
     "data": {
      "text/plain": [
       "'.DS_Store'"
      ]
     },
     "execution_count": 29,
     "metadata": {},
     "output_type": "execute_result"
    }
   ],
   "source": [
    "normal_images.pop(0)"
   ]
  },
  {
   "cell_type": "code",
   "execution_count": 30,
   "metadata": {},
   "outputs": [
    {
     "name": "stdout",
     "output_type": "stream",
     "text": [
      "chest_xray\\train\\NORMAL\\IM-0115-0001.jpeg\n"
     ]
    },
    {
     "name": "stdout",
     "output_type": "stream",
     "text": [
      "Generated 2534 images in the NORMAL class.\n"
     ]
    }
   ],
   "source": [
    "for img_name in normal_images:\n",
    "    img_path = os.path.join(normal_train_path, img_name)\n",
    "    print(img_path)\n",
    "    img = load_img(img_path)\n",
    "    x = img_to_array(img)\n",
    "    x = x.reshape((1,) + x.shape)\n",
    "\n",
    "    # Generating images\n",
    "    for _ in datagen.flow(x, batch_size=1, save_to_dir=normal_train_path, save_prefix='aug', save_format='jpeg'):\n",
    "        generated_count += 1\n",
    "        if generated_count >= images_to_generate:\n",
    "            break\n",
    "\n",
    "    if generated_count >= images_to_generate:\n",
    "        break\n",
    "\n",
    "print(f\"Generated {generated_count} images in the NORMAL class.\")"
   ]
  },
  {
   "cell_type": "code",
   "execution_count": 37,
   "metadata": {},
   "outputs": [],
   "source": [
    "for subfolder in subfolders:\n",
    "    for class_name in [\"PNEUMONIA\", \"NORMAL\"]:\n",
    "        class_path = os.path.join(dataset_path, subfolder, class_name)\n",
    "        image_counts[subfolder][class_name] = len(os.listdir(class_path))"
   ]
  },
  {
   "cell_type": "code",
   "execution_count": 38,
   "metadata": {},
   "outputs": [],
   "source": [
    "new_counts = {}"
   ]
  },
  {
   "cell_type": "code",
   "execution_count": 39,
   "metadata": {},
   "outputs": [
    {
     "name": "stdout",
     "output_type": "stream",
     "text": [
      "Counts for train after balancing:\n",
      " - PNEUMONIA: 3876\n",
      " - NORMAL: 3587\n"
     ]
    }
   ],
   "source": [
    "for subfolder in subfolders:\n",
    "    print(f\"Counts for {subfolder} after balancing:\")\n",
    "    for class_name in [\"PNEUMONIA\", \"NORMAL\"]:\n",
    "        print(f\" - {class_name}: {image_counts[subfolder][class_name]}\")\n",
    "        new_counts[class_name] = image_counts[subfolder][class_name]"
   ]
  },
  {
   "cell_type": "code",
   "execution_count": 40,
   "metadata": {},
   "outputs": [
    {
     "data": {
      "image/png": "[encoded data removed]",
      "text/plain": [
       "<Figure size 576x360 with 1 Axes>"
      ]
     },
     "metadata": {
      "needs_background": "light"
     },
     "output_type": "display_data"
    }
   ],
   "source": [
    "categories = ['Pneumonia', 'Normal']\n",
    "num = [new_counts['PNEUMONIA'], new_counts['NORMAL']]\n",
    "\n",
    "# Convert data to a pandas DataFrame\n",
    "data = pd.DataFrame({\n",
    "    'Category': categories,\n",
    "    'Count': num\n",
    "})\n",
    "\n",
    "# Create a bar plot using seaborn\n",
    "plt.figure(figsize=(8, 5))\n",
    "sns.barplot(x='Category', y='Count', data=data,)\n",
    "\n",
    "# Adding titles and labels\n",
    "plt.title('Counts of Pneumonia vs Normal Cases')\n",
    "plt.xlabel('Categories')\n",
    "plt.ylabel('Counts')\n",
    "\n",
    "# Show the plot\n",
    "plt.show()"
   ]
  }
 ],
 "metadata": {
  "kernelspec": {
   "display_name": "venv1",
   "language": "python",
   "name": "python3"
  },
  "language_info": {
   "codemirror_mode": {
    "name": "ipython",
    "version": 3
   },
   "file_extension": ".py",
   "mimetype": "text/x-python",
   "name": "python",
   "nbconvert_exporter": "python",
   "pygments_lexer": "ipython3",
   "version": "3.9.0"
  }
 },
 "nbformat": 4,
 "nbformat_minor": 2
}

{
 "cells": [
  {
   "cell_type": "code",
   "execution_count": 40,
   "metadata": {},
   "outputs": [],
   "source": [
    "import os\n",
    "from collections import defaultdict\n",
    "from tensorflow.keras.preprocessing.image import ImageDataGenerator, load_img\n",
    "from tensorflow.keras.preprocessing.image import img_to_array"
   ]
  },
  {
   "cell_type": "code",
   "execution_count": 53,
   "metadata": {},
   "outputs": [],
   "source": [
    "dataset_path ='chest_xray'"
   ]
  },
  {
   "cell_type": "code",
   "execution_count": 54,
   "metadata": {},
   "outputs": [],
   "source": [
    "subfolders = [\"train\"]"
   ]
  },
  {
   "cell_type": "code",
   "execution_count": 55,
   "metadata": {},
   "outputs": [],
   "source": [
    "classes = ['PNEUMONIA', 'NORMAL']"
   ]
  },
  {
   "cell_type": "code",
   "execution_count": 56,
   "metadata": {},
   "outputs": [],
   "source": [
    "image_counts = defaultdict(lambda: defaultdict(int))"
   ]
  },
  {
   "cell_type": "code",
   "execution_count": 59,
   "metadata": {},
   "outputs": [],
   "source": [
    "for subfolder in subfolders:\n",
    "    for class_name in [\"PNEUMONIA\", \"NORMAL\"]:\n",
    "        class_path = os.path.join(dataset_path, subfolder, class_name)\n",
    "        image_counts[subfolder][class_name] = len(os.listdir(class_path))\n"
   ]
  },
  {
   "cell_type": "code",
   "execution_count": 64,
   "metadata": {},
   "outputs": [],
   "source": [
    "counts = {}"
   ]
  },
  {
   "cell_type": "code",
   "execution_count": 65,
   "metadata": {},
   "outputs": [
    {
     "name": "stdout",
     "output_type": "stream",
     "text": [
      "Counts for train:\n",
      " - PNEUMONIA: 3876\n",
      " - NORMAL: 2624\n"
     ]
    }
   ],
   "source": [
    "for subfolder in subfolders:\n",
    "    print(f\"Counts for {subfolder}:\")\n",
    "    for class_name in [\"PNEUMONIA\", \"NORMAL\"]:\n",
    "        print(f\" - {class_name}: {image_counts[subfolder][class_name]}\")\n",
    "        counts[class_name] = image_counts[subfolder][class_name]\n"
   ]
  },
  {
   "cell_type": "code",
   "execution_count": 66,
   "metadata": {},
   "outputs": [
    {
     "data": {
      "text/plain": [
       "{'PNEUMONIA': 3876, 'NORMAL': 2624}"
      ]
     },
     "execution_count": 66,
     "metadata": {},
     "output_type": "execute_result"
    }
   ],
   "source": [
    "counts"
   ]
  },
  {
   "cell_type": "code",
   "execution_count": 67,
   "metadata": {},
   "outputs": [
    {
     "data": {
      "image/png": "[encoded data removed]",
      "text/plain": [
       "<Figure size 576x360 with 1 Axes>"
      ]
     },
     "metadata": {
      "needs_background": "light"
     },
     "output_type": "display_data"
    }
   ],
   "source": [
    "import matplotlib.pyplot as plt\n",
    "\n",
    "categories = ['Pneumonia', 'Normal']\n",
    "num = [counts['PNEUMONIA'], counts['NORMAL']]\n",
    "\n",
    "# Create a bar plot\n",
    "plt.figure(figsize=(8, 5))\n",
    "plt.bar(categories, num, color=['blue', 'green'])\n",
    "\n",
    "# Adding titles and labels\n",
    "plt.title('Counts of Pneumonia vs Normal Cases')\n",
    "plt.xlabel('Categories')\n",
    "plt.ylabel('Counts')\n",
    "plt.xticks(categories)\n",
    "\n",
    "# Show the plot\n",
    "plt.show()"
   ]
  },
  {
   "cell_type": "code",
   "execution_count": 20,
   "metadata": {},
   "outputs": [
    {
     "name": "stdout",
     "output_type": "stream",
     "text": [
      "chest_xray\\train\\NORMAL\n"
     ]
    }
   ],
   "source": [
    "normal_train_path = os.path.join(dataset_path, \"train\", \"NORMAL\")\n",
    "print(normal_train_path)"
   ]
  },
  {
   "cell_type": "code",
   "execution_count": 13,
   "metadata": {},
   "outputs": [],
   "source": [
    "pneumonia_count = 3876\n",
    "normal_count = 1342\n",
    "images_to_generate = pneumonia_count - normal_count"
   ]
  },
  {
   "cell_type": "code",
   "execution_count": 16,
   "metadata": {},
   "outputs": [],
   "source": [
    "datagen = ImageDataGenerator(\n",
    "    rotation_range=10,\n",
    "    width_shift_range=0.1,\n",
    "    height_shift_range=0.1,\n",
    "    shear_range=0.1,\n",
    "    zoom_range=0.1,\n",
    "    horizontal_flip=True,\n",
    "    fill_mode='nearest'\n",
    ")"
   ]
  },
  {
   "cell_type": "code",
   "execution_count": 17,
   "metadata": {},
   "outputs": [],
   "source": [
    "normal_images = os.listdir(normal_train_path)\n",
    "generated_count = 0"
   ]
  },
  {
   "cell_type": "code",
   "execution_count": 22,
   "metadata": {},
   "outputs": [
    {
     "data": {
      "text/plain": [
       "'.DS_Store'"
      ]
     },
     "execution_count": 22,
     "metadata": {},
     "output_type": "execute_result"
    }
   ],
   "source": [
    "normal_images.pop(0)"
   ]
  },
  {
   "cell_type": "code",
   "execution_count": 23,
   "metadata": {},
   "outputs": [
    {
     "name": "stdout",
     "output_type": "stream",
     "text": [
      "chest_xray\\train\\NORMAL\\IM-0115-0001.jpeg\n"
     ]
    },
    {
     "ename": "KeyboardInterrupt",
     "evalue": "",
     "output_type": "error",
     "traceback": [
      "\u001b[1;31m---------------------------------------------------------------------------\u001b[0m",
      "\u001b[1;31mKeyboardInterrupt\u001b[0m                         Traceback (most recent call last)",
      "\u001b[1;32md:\\Users\\Biki\\Downloads\\Project Files\\Pneumonia-Prediction\\balance_dataset.ipynb Cell 13\u001b[0m line \u001b[0;36m<cell line: 1>\u001b[1;34m()\u001b[0m\n\u001b[0;32m      <a href='vscode-notebook-cell:/d%3A/Users/Biki/Downloads/Project%20Files/Pneumonia-Prediction/balance_dataset.ipynb#X13sZmlsZQ%3D%3D?line=5'>6</a>\u001b[0m x \u001b[39m=\u001b[39m x\u001b[39m.\u001b[39mreshape((\u001b[39m1\u001b[39m,) \u001b[39m+\u001b[39m x\u001b[39m.\u001b[39mshape)\n\u001b[0;32m      <a href='vscode-notebook-cell:/d%3A/Users/Biki/Downloads/Project%20Files/Pneumonia-Prediction/balance_dataset.ipynb#X13sZmlsZQ%3D%3D?line=7'>8</a>\u001b[0m \u001b[39m# Generating images\u001b[39;00m\n\u001b[1;32m----> <a href='vscode-notebook-cell:/d%3A/Users/Biki/Downloads/Project%20Files/Pneumonia-Prediction/balance_dataset.ipynb#X13sZmlsZQ%3D%3D?line=8'>9</a>\u001b[0m \u001b[39mfor\u001b[39;00m _ \u001b[39min\u001b[39;00m datagen\u001b[39m.\u001b[39mflow(x, batch_size\u001b[39m=\u001b[39m\u001b[39m1\u001b[39m, save_to_dir\u001b[39m=\u001b[39mnormal_train_path, save_prefix\u001b[39m=\u001b[39m\u001b[39m'\u001b[39m\u001b[39maug\u001b[39m\u001b[39m'\u001b[39m, save_format\u001b[39m=\u001b[39m\u001b[39m'\u001b[39m\u001b[39mjpeg\u001b[39m\u001b[39m'\u001b[39m):\n\u001b[0;32m     <a href='vscode-notebook-cell:/d%3A/Users/Biki/Downloads/Project%20Files/Pneumonia-Prediction/balance_dataset.ipynb#X13sZmlsZQ%3D%3D?line=9'>10</a>\u001b[0m     generated_count \u001b[39m+\u001b[39m\u001b[39m=\u001b[39m \u001b[39m1\u001b[39m\n\u001b[0;32m     <a href='vscode-notebook-cell:/d%3A/Users/Biki/Downloads/Project%20Files/Pneumonia-Prediction/balance_dataset.ipynb#X13sZmlsZQ%3D%3D?line=10'>11</a>\u001b[0m     \u001b[39mif\u001b[39;00m generated_count \u001b[39m>\u001b[39m\u001b[39m=\u001b[39m images_to_generate:\n",
      "File \u001b[1;32mc:\\Users\\Biki\\anaconda3\\envs\\venv1\\lib\\site-packages\\keras\\preprocessing\\image.py:148\u001b[0m, in \u001b[0;36mIterator.__next__\u001b[1;34m(self, *args, **kwargs)\u001b[0m\n\u001b[0;32m    147\u001b[0m \u001b[39mdef\u001b[39;00m \u001b[39m__next__\u001b[39m(\u001b[39mself\u001b[39m, \u001b[39m*\u001b[39margs, \u001b[39m*\u001b[39m\u001b[39m*\u001b[39mkwargs):\n\u001b[1;32m--> 148\u001b[0m   \u001b[39mreturn\u001b[39;00m \u001b[39mself\u001b[39m\u001b[39m.\u001b[39mnext(\u001b[39m*\u001b[39margs, \u001b[39m*\u001b[39m\u001b[39m*\u001b[39mkwargs)\n",
      "File \u001b[1;32mc:\\Users\\Biki\\anaconda3\\envs\\venv1\\lib\\site-packages\\keras\\preprocessing\\image.py:160\u001b[0m, in \u001b[0;36mIterator.next\u001b[1;34m(self)\u001b[0m\n\u001b[0;32m    157\u001b[0m   index_array \u001b[39m=\u001b[39m \u001b[39mnext\u001b[39m(\u001b[39mself\u001b[39m\u001b[39m.\u001b[39mindex_generator)\n\u001b[0;32m    158\u001b[0m \u001b[39m# The transformation of images is not under thread lock\u001b[39;00m\n\u001b[0;32m    159\u001b[0m \u001b[39m# so it can be done in parallel\u001b[39;00m\n\u001b[1;32m--> 160\u001b[0m \u001b[39mreturn\u001b[39;00m \u001b[39mself\u001b[39;49m\u001b[39m.\u001b[39;49m_get_batches_of_transformed_samples(index_array)\n",
      "File \u001b[1;32mc:\\Users\\Biki\\anaconda3\\envs\\venv1\\lib\\site-packages\\keras\\preprocessing\\image.py:709\u001b[0m, in \u001b[0;36mNumpyArrayIterator._get_batches_of_transformed_samples\u001b[1;34m(self, index_array)\u001b[0m\n\u001b[0;32m    707\u001b[0m x \u001b[39m=\u001b[39m \u001b[39mself\u001b[39m\u001b[39m.\u001b[39mx[j]\n\u001b[0;32m    708\u001b[0m params \u001b[39m=\u001b[39m \u001b[39mself\u001b[39m\u001b[39m.\u001b[39mimage_data_generator\u001b[39m.\u001b[39mget_random_transform(x\u001b[39m.\u001b[39mshape)\n\u001b[1;32m--> 709\u001b[0m x \u001b[39m=\u001b[39m \u001b[39mself\u001b[39;49m\u001b[39m.\u001b[39;49mimage_data_generator\u001b[39m.\u001b[39;49mapply_transform(\n\u001b[0;32m    710\u001b[0m     x\u001b[39m.\u001b[39;49mastype(\u001b[39mself\u001b[39;49m\u001b[39m.\u001b[39;49mdtype), params)\n\u001b[0;32m    711\u001b[0m x \u001b[39m=\u001b[39m \u001b[39mself\u001b[39m\u001b[39m.\u001b[39mimage_data_generator\u001b[39m.\u001b[39mstandardize(x)\n\u001b[0;32m    712\u001b[0m batch_x[i] \u001b[39m=\u001b[39m x\n",
      "File \u001b[1;32mc:\\Users\\Biki\\anaconda3\\envs\\venv1\\lib\\site-packages\\keras\\preprocessing\\image.py:1800\u001b[0m, in \u001b[0;36mImageDataGenerator.apply_transform\u001b[1;34m(self, x, transform_parameters)\u001b[0m\n\u001b[0;32m   1797\u001b[0m img_col_axis \u001b[39m=\u001b[39m \u001b[39mself\u001b[39m\u001b[39m.\u001b[39mcol_axis \u001b[39m-\u001b[39m \u001b[39m1\u001b[39m\n\u001b[0;32m   1798\u001b[0m img_channel_axis \u001b[39m=\u001b[39m \u001b[39mself\u001b[39m\u001b[39m.\u001b[39mchannel_axis \u001b[39m-\u001b[39m \u001b[39m1\u001b[39m\n\u001b[1;32m-> 1800\u001b[0m x \u001b[39m=\u001b[39m apply_affine_transform(\n\u001b[0;32m   1801\u001b[0m     x,\n\u001b[0;32m   1802\u001b[0m     transform_parameters\u001b[39m.\u001b[39;49mget(\u001b[39m'\u001b[39;49m\u001b[39mtheta\u001b[39;49m\u001b[39m'\u001b[39;49m, \u001b[39m0\u001b[39;49m),\n\u001b[0;32m   1803\u001b[0m     transform_parameters\u001b[39m.\u001b[39;49mget(\u001b[39m'\u001b[39;49m\u001b[39mtx\u001b[39;49m\u001b[39m'\u001b[39;49m, \u001b[39m0\u001b[39;49m),\n\u001b[0;32m   1804\u001b[0m     transform_parameters\u001b[39m.\u001b[39;49mget(\u001b[39m'\u001b[39;49m\u001b[39mty\u001b[39;49m\u001b[39m'\u001b[39;49m, \u001b[39m0\u001b[39;49m),\n\u001b[0;32m   1805\u001b[0m     transform_parameters\u001b[39m.\u001b[39;49mget(\u001b[39m'\u001b[39;49m\u001b[39mshear\u001b[39;49m\u001b[39m'\u001b[39;49m, \u001b[39m0\u001b[39;49m),\n\u001b[0;32m   1806\u001b[0m     transform_parameters\u001b[39m.\u001b[39;49mget(\u001b[39m'\u001b[39;49m\u001b[39mzx\u001b[39;49m\u001b[39m'\u001b[39;49m, \u001b[39m1\u001b[39;49m),\n\u001b[0;32m   1807\u001b[0m     transform_parameters\u001b[39m.\u001b[39;49mget(\u001b[39m'\u001b[39;49m\u001b[39mzy\u001b[39;49m\u001b[39m'\u001b[39;49m, \u001b[39m1\u001b[39;49m),\n\u001b[0;32m   1808\u001b[0m     row_axis\u001b[39m=\u001b[39;49mimg_row_axis,\n\u001b[0;32m   1809\u001b[0m     col_axis\u001b[39m=\u001b[39;49mimg_col_axis,\n\u001b[0;32m   1810\u001b[0m     channel_axis\u001b[39m=\u001b[39;49mimg_channel_axis,\n\u001b[0;32m   1811\u001b[0m     fill_mode\u001b[39m=\u001b[39;49m\u001b[39mself\u001b[39;49m\u001b[39m.\u001b[39;49mfill_mode,\n\u001b[0;32m   1812\u001b[0m     cval\u001b[39m=\u001b[39;49m\u001b[39mself\u001b[39;49m\u001b[39m.\u001b[39;49mcval,\n\u001b[0;32m   1813\u001b[0m     order\u001b[39m=\u001b[39;49m\u001b[39mself\u001b[39;49m\u001b[39m.\u001b[39;49minterpolation_order)\n\u001b[0;32m   1815\u001b[0m \u001b[39mif\u001b[39;00m transform_parameters\u001b[39m.\u001b[39mget(\u001b[39m'\u001b[39m\u001b[39mchannel_shift_intensity\u001b[39m\u001b[39m'\u001b[39m) \u001b[39mis\u001b[39;00m \u001b[39mnot\u001b[39;00m \u001b[39mNone\u001b[39;00m:\n\u001b[0;32m   1816\u001b[0m   x \u001b[39m=\u001b[39m apply_channel_shift(x,\n\u001b[0;32m   1817\u001b[0m                           transform_parameters[\u001b[39m'\u001b[39m\u001b[39mchannel_shift_intensity\u001b[39m\u001b[39m'\u001b[39m],\n\u001b[0;32m   1818\u001b[0m                           img_channel_axis)\n",
      "File \u001b[1;32mc:\\Users\\Biki\\anaconda3\\envs\\venv1\\lib\\site-packages\\keras\\preprocessing\\image.py:2324\u001b[0m, in \u001b[0;36mapply_affine_transform\u001b[1;34m(x, theta, tx, ty, shear, zx, zy, row_axis, col_axis, channel_axis, fill_mode, cval, order)\u001b[0m\n\u001b[0;32m   2321\u001b[0m final_affine_matrix \u001b[39m=\u001b[39m transform_matrix[:\u001b[39m2\u001b[39m, :\u001b[39m2\u001b[39m]\n\u001b[0;32m   2322\u001b[0m final_offset \u001b[39m=\u001b[39m transform_matrix[:\u001b[39m2\u001b[39m, \u001b[39m2\u001b[39m]\n\u001b[1;32m-> 2324\u001b[0m channel_images \u001b[39m=\u001b[39m [ndimage\u001b[39m.\u001b[39minterpolation\u001b[39m.\u001b[39maffine_transform(  \u001b[39m# pylint: disable=g-complex-comprehension\u001b[39;00m\n\u001b[0;32m   2325\u001b[0m     x_channel,\n\u001b[0;32m   2326\u001b[0m     final_affine_matrix,\n\u001b[0;32m   2327\u001b[0m     final_offset,\n\u001b[0;32m   2328\u001b[0m     order\u001b[39m=\u001b[39morder,\n\u001b[0;32m   2329\u001b[0m     mode\u001b[39m=\u001b[39mfill_mode,\n\u001b[0;32m   2330\u001b[0m     cval\u001b[39m=\u001b[39mcval) \u001b[39mfor\u001b[39;00m x_channel \u001b[39min\u001b[39;00m x]\n\u001b[0;32m   2331\u001b[0m x \u001b[39m=\u001b[39m np\u001b[39m.\u001b[39mstack(channel_images, axis\u001b[39m=\u001b[39m\u001b[39m0\u001b[39m)\n\u001b[0;32m   2332\u001b[0m x \u001b[39m=\u001b[39m np\u001b[39m.\u001b[39mrollaxis(x, \u001b[39m0\u001b[39m, channel_axis \u001b[39m+\u001b[39m \u001b[39m1\u001b[39m)\n",
      "File \u001b[1;32mc:\\Users\\Biki\\anaconda3\\envs\\venv1\\lib\\site-packages\\keras\\preprocessing\\image.py:2324\u001b[0m, in \u001b[0;36m<listcomp>\u001b[1;34m(.0)\u001b[0m\n\u001b[0;32m   2321\u001b[0m final_affine_matrix \u001b[39m=\u001b[39m transform_matrix[:\u001b[39m2\u001b[39m, :\u001b[39m2\u001b[39m]\n\u001b[0;32m   2322\u001b[0m final_offset \u001b[39m=\u001b[39m transform_matrix[:\u001b[39m2\u001b[39m, \u001b[39m2\u001b[39m]\n\u001b[1;32m-> 2324\u001b[0m channel_images \u001b[39m=\u001b[39m [ndimage\u001b[39m.\u001b[39;49minterpolation\u001b[39m.\u001b[39;49maffine_transform(  \u001b[39m# pylint: disable=g-complex-comprehension\u001b[39;49;00m\n\u001b[0;32m   2325\u001b[0m     x_channel,\n\u001b[0;32m   2326\u001b[0m     final_affine_matrix,\n\u001b[0;32m   2327\u001b[0m     final_offset,\n\u001b[0;32m   2328\u001b[0m     order\u001b[39m=\u001b[39;49morder,\n\u001b[0;32m   2329\u001b[0m     mode\u001b[39m=\u001b[39;49mfill_mode,\n\u001b[0;32m   2330\u001b[0m     cval\u001b[39m=\u001b[39;49mcval) \u001b[39mfor\u001b[39;00m x_channel \u001b[39min\u001b[39;00m x]\n\u001b[0;32m   2331\u001b[0m x \u001b[39m=\u001b[39m np\u001b[39m.\u001b[39mstack(channel_images, axis\u001b[39m=\u001b[39m\u001b[39m0\u001b[39m)\n\u001b[0;32m   2332\u001b[0m x \u001b[39m=\u001b[39m np\u001b[39m.\u001b[39mrollaxis(x, \u001b[39m0\u001b[39m, channel_axis \u001b[39m+\u001b[39m \u001b[39m1\u001b[39m)\n",
      "File \u001b[1;32mc:\\Users\\Biki\\anaconda3\\envs\\venv1\\lib\\site-packages\\scipy\\ndimage\\_interpolation.py:611\u001b[0m, in \u001b[0;36maffine_transform\u001b[1;34m(input, matrix, offset, output_shape, output, order, mode, cval, prefilter)\u001b[0m\n\u001b[0;32m    608\u001b[0m     _nd_image\u001b[39m.\u001b[39mzoom_shift(filtered, matrix, offset\u001b[39m/\u001b[39mmatrix, output, order,\n\u001b[0;32m    609\u001b[0m                          mode, cval, npad, \u001b[39mFalse\u001b[39;00m)\n\u001b[0;32m    610\u001b[0m \u001b[39melse\u001b[39;00m:\n\u001b[1;32m--> 611\u001b[0m     _nd_image\u001b[39m.\u001b[39;49mgeometric_transform(filtered, \u001b[39mNone\u001b[39;49;00m, \u001b[39mNone\u001b[39;49;00m, matrix, offset,\n\u001b[0;32m    612\u001b[0m                                   output, order, mode, cval, npad, \u001b[39mNone\u001b[39;49;00m,\n\u001b[0;32m    613\u001b[0m                                   \u001b[39mNone\u001b[39;49;00m)\n\u001b[0;32m    614\u001b[0m \u001b[39mreturn\u001b[39;00m output\n",
      "\u001b[1;31mKeyboardInterrupt\u001b[0m: "
     ]
    }
   ],
   "source": [
    "for img_name in normal_images:\n",
    "    img_path = os.path.join(normal_train_path, img_name)\n",
    "    print(img_path)\n",
    "    img = load_img(img_path)\n",
    "    x = img_to_array(img)\n",
    "    x = x.reshape((1,) + x.shape)\n",
    "\n",
    "    # Generating images\n",
    "    for _ in datagen.flow(x, batch_size=1, save_to_dir=normal_train_path, save_prefix='aug', save_format='jpeg'):\n",
    "        generated_count += 1\n",
    "        if generated_count >= images_to_generate:\n",
    "            break\n",
    "\n",
    "    if generated_count >= images_to_generate:\n",
    "        break\n",
    "\n",
    "print(f\"Generated {generated_count} images in the NORMAL class.\")"
   ]
  },
  {
   "cell_type": "code",
   "execution_count": 69,
   "metadata": {},
   "outputs": [],
   "source": [
    "new_counts = {}"
   ]
  },
  {
   "cell_type": "code",
   "execution_count": 70,
   "metadata": {},
   "outputs": [
    {
     "name": "stdout",
     "output_type": "stream",
     "text": [
      "Counts for train after balancing:\n",
      " - PNEUMONIA: 3876\n",
      " - NORMAL: 2624\n"
     ]
    }
   ],
   "source": [
    "for subfolder in subfolders:\n",
    "    print(f\"Counts for {subfolder} after balancing:\")\n",
    "    for class_name in [\"PNEUMONIA\", \"NORMAL\"]:\n",
    "        print(f\" - {class_name}: {image_counts[subfolder][class_name]}\")\n",
    "        new_counts[class_name] = image_counts[subfolder][class_name]"
   ]
  },
  {
   "cell_type": "code",
   "execution_count": 71,
   "metadata": {},
   "outputs": [
    {
     "data": {
      "image/png": "[encoded data removed]",
      "text/plain": [
       "<Figure size 576x360 with 1 Axes>"
      ]
     },
     "metadata": {
      "needs_background": "light"
     },
     "output_type": "display_data"
    }
   ],
   "source": [
    "import matplotlib.pyplot as plt\n",
    "\n",
    "categories = ['Pneumonia', 'Normal']\n",
    "num = [new_counts['PNEUMONIA'], new_counts['NORMAL']]\n",
    "\n",
    "# Create a bar plot\n",
    "plt.figure(figsize=(8, 5))\n",
    "plt.bar(categories, num, color=['blue', 'green'])\n",
    "\n",
    "# Adding titles and labels\n",
    "plt.title('Counts of Pneumonia vs Normal Cases')\n",
    "plt.xlabel('Categories')\n",
    "plt.ylabel('Counts')\n",
    "plt.xticks(categories)\n",
    "\n",
    "# Show the plot\n",
    "plt.show()"
   ]
  }
 ],
 "metadata": {
  "kernelspec": {
   "display_name": "venv1",
   "language": "python",
   "name": "python3"
  },
  "language_info": {
   "codemirror_mode": {
    "name": "ipython",
    "version": 3
   },
   "file_extension": ".py",
   "mimetype": "text/x-python",
   "name": "python",
   "nbconvert_exporter": "python",
   "pygments_lexer": "ipython3",
   "version": "3.9.0"
  }
 },
 "nbformat": 4,
 "nbformat_minor": 2
}

{
 "cells": [
  {
   "cell_type": "code",
   "execution_count": 15,
   "metadata": {},
   "outputs": [],
   "source": [
    "import os\n",
    "os.environ[\"CUDA_VISIBLE_DEVICES\"] = \"-1\"\n",
    "from keras.layers import Input, Lambda, Dense, Flatten\n",
    "from keras.models import Model\n",
    "from keras.applications.vgg16 import VGG16\n",
    "from keras.applications.vgg16 import preprocess_input\n",
    "from keras.preprocessing import image\n",
    "from keras.preprocessing.image import ImageDataGenerator\n",
    "from keras.models import Sequential\n",
    "from keras.callbacks import EarlyStopping\n",
    "import numpy as np\n",
    "from glob import glob\n",
    "import matplotlib.pyplot as plt"
   ]
  },
  {
   "cell_type": "code",
   "execution_count": 3,
   "metadata": {},
   "outputs": [],
   "source": [
    "train_dir = r'chest_xray\\train'\n",
    "test_dir = r'chest_xray\\test'\n",
    "val_dir = r'chest_xray\\val'"
   ]
  },
  {
   "cell_type": "code",
   "execution_count": 4,
   "metadata": {},
   "outputs": [],
   "source": [
    "IMAGE_SIZE = [224, 244]\n"
   ]
  },
  {
   "cell_type": "code",
   "execution_count": 5,
   "metadata": {},
   "outputs": [],
   "source": [
    "vgg = VGG16(input_shape=IMAGE_SIZE + [3], weights='imagenet', include_top=False)"
   ]
  },
  {
   "cell_type": "code",
   "execution_count": 6,
   "metadata": {},
   "outputs": [],
   "source": [
    "for layer in vgg.layers:\n",
    "    layer.trainable = False"
   ]
  },
  {
   "cell_type": "code",
   "execution_count": 7,
   "metadata": {},
   "outputs": [
    {
     "name": "stdout",
     "output_type": "stream",
     "text": [
      "['chest_xray/train\\\\NORMAL', 'chest_xray/train\\\\PNEUMONIA']\n"
     ]
    }
   ],
   "source": [
    "folders = glob('chest_xray/train/*')\n",
    "print(folders)"
   ]
  },
  {
   "cell_type": "code",
   "execution_count": 8,
   "metadata": {},
   "outputs": [],
   "source": [
    "x = Flatten()(vgg.output)\n",
    "prediction = Dense(len(folders), activation='softmax')(x)\n",
    "model = Model(inputs=vgg.input, outputs=prediction)"
   ]
  },
  {
   "cell_type": "code",
   "execution_count": 9,
   "metadata": {},
   "outputs": [
    {
     "name": "stdout",
     "output_type": "stream",
     "text": [
      "Model: \"model\"\n",
      "_________________________________________________________________\n",
      " Layer (type)                Output Shape              Param #   \n",
      "=================================================================\n",
      " input_1 (InputLayer)        [(None, 224, 244, 3)]     0         \n",
      "                                                                 \n",
      " block1_conv1 (Conv2D)       (None, 224, 244, 64)      1792      \n",
      "                                                                 \n",
      " block1_conv2 (Conv2D)       (None, 224, 244, 64)      36928     \n",
      "                                                                 \n",
      " block1_pool (MaxPooling2D)  (None, 112, 122, 64)      0         \n",
      "                                                                 \n",
      " block2_conv1 (Conv2D)       (None, 112, 122, 128)     73856     \n",
      "                                                                 \n",
      " block2_conv2 (Conv2D)       (None, 112, 122, 128)     147584    \n",
      "                                                                 \n",
      " block2_pool (MaxPooling2D)  (None, 56, 61, 128)       0         \n",
      "                                                                 \n",
      " block3_conv1 (Conv2D)       (None, 56, 61, 256)       295168    \n",
      "                                                                 \n",
      " block3_conv2 (Conv2D)       (None, 56, 61, 256)       590080    \n",
      "                                                                 \n",
      " block3_conv3 (Conv2D)       (None, 56, 61, 256)       590080    \n",
      "                                                                 \n",
      " block3_pool (MaxPooling2D)  (None, 28, 30, 256)       0         \n",
      "                                                                 \n",
      " block4_conv1 (Conv2D)       (None, 28, 30, 512)       1180160   \n",
      "                                                                 \n",
      " block4_conv2 (Conv2D)       (None, 28, 30, 512)       2359808   \n",
      "                                                                 \n",
      " block4_conv3 (Conv2D)       (None, 28, 30, 512)       2359808   \n",
      "                                                                 \n",
      " block4_pool (MaxPooling2D)  (None, 14, 15, 512)       0         \n",
      "                                                                 \n",
      " block5_conv1 (Conv2D)       (None, 14, 15, 512)       2359808   \n",
      "                                                                 \n",
      " block5_conv2 (Conv2D)       (None, 14, 15, 512)       2359808   \n",
      "                                                                 \n",
      " block5_conv3 (Conv2D)       (None, 14, 15, 512)       2359808   \n",
      "                                                                 \n",
      " block5_pool (MaxPooling2D)  (None, 7, 7, 512)         0         \n",
      "                                                                 \n",
      " flatten (Flatten)           (None, 25088)             0         \n",
      "                                                                 \n",
      " dense (Dense)               (None, 2)                 50178     \n",
      "                                                                 \n",
      "=================================================================\n",
      "Total params: 14,764,866\n",
      "Trainable params: 50,178\n",
      "Non-trainable params: 14,714,688\n",
      "_________________________________________________________________\n"
     ]
    }
   ],
   "source": [
    "model.summary()"
   ]
  },
  {
   "cell_type": "code",
   "execution_count": 10,
   "metadata": {},
   "outputs": [],
   "source": [
    "model.compile(\n",
    "  loss='categorical_crossentropy',\n",
    "  optimizer='adam',\n",
    "  metrics=['accuracy']\n",
    ")"
   ]
  },
  {
   "cell_type": "code",
   "execution_count": 11,
   "metadata": {},
   "outputs": [],
   "source": [
    "from keras.preprocessing.image import ImageDataGenerator\n",
    "\n",
    "train_datagen = ImageDataGenerator(rescale = 1./255,\n",
    "                                   shear_range = 0.2,\n",
    "                                   zoom_range = 0.2,\n",
    "                                   horizontal_flip = True)\n",
    "\n",
    "test_datagen = ImageDataGenerator(rescale = 1./255)\n",
    "va_datagen = ImageDataGenerator(rescale = 1./255)"
   ]
  },
  {
   "cell_type": "code",
   "execution_count": 12,
   "metadata": {},
   "outputs": [
    {
     "name": "stdout",
     "output_type": "stream",
     "text": [
      "Found 5216 images belonging to 2 classes.\n"
     ]
    }
   ],
   "source": [
    "training_set = train_datagen.flow_from_directory('chest_xray/train',\n",
    "                                                 target_size = (224, 224),\n",
    "                                                 batch_size = 32,\n",
    "                                                 class_mode = 'categorical')"
   ]
  },
  {
   "cell_type": "code",
   "execution_count": 13,
   "metadata": {},
   "outputs": [
    {
     "name": "stdout",
     "output_type": "stream",
     "text": [
      "Found 624 images belonging to 2 classes.\n"
     ]
    }
   ],
   "source": [
    "test_set = test_datagen.flow_from_directory('chest_xray/test',\n",
    "                                            target_size = (224, 224),\n",
    "                                            batch_size = 32,\n",
    "                                            class_mode = 'categorical')"
   ]
  },
  {
   "cell_type": "code",
   "execution_count": 14,
   "metadata": {},
   "outputs": [
    {
     "name": "stdout",
     "output_type": "stream",
     "text": [
      "Found 16 images belonging to 2 classes.\n"
     ]
    }
   ],
   "source": [
    "val_set = test_datagen.flow_from_directory('chest_xray/val',\n",
    "                                            target_size = (224, 224),\n",
    "                                            batch_size = 32,\n",
    "                                            class_mode = 'categorical')"
   ]
  },
  {
   "cell_type": "code",
   "execution_count": 16,
   "metadata": {},
   "outputs": [],
   "source": [
    "early_stopping = EarlyStopping(\n",
    "    min_delta=0.001, # minimium amount of change to count as an improvement\n",
    "    patience=20, # how many epochs to wait before stopping\n",
    "    restore_best_weights=True,\n",
    ")"
   ]
  },
  {
   "cell_type": "code",
   "execution_count": 205,
   "metadata": {},
   "outputs": [
    {
     "name": "stdout",
     "output_type": "stream",
     "text": [
      "Epoch 1/500\n",
      "163/163 [==============================] - 366s 2s/step - loss: 0.2313 - accuracy: 0.9095 - val_loss: 0.3278 - val_accuracy: 0.8750\n",
      "Epoch 2/500\n",
      "163/163 [==============================] - 368s 2s/step - loss: 0.1094 - accuracy: 0.9555 - val_loss: 0.2743 - val_accuracy: 0.8750\n",
      "Epoch 3/500\n",
      "163/163 [==============================] - 356s 2s/step - loss: 0.0871 - accuracy: 0.9678 - val_loss: 0.2284 - val_accuracy: 0.9375\n",
      "Epoch 4/500\n",
      "163/163 [==============================] - 358s 2s/step - loss: 0.0851 - accuracy: 0.9691 - val_loss: 0.4248 - val_accuracy: 0.7500\n",
      "Epoch 5/500\n",
      "163/163 [==============================] - 356s 2s/step - loss: 0.0891 - accuracy: 0.9653 - val_loss: 0.3983 - val_accuracy: 0.8125\n",
      "Epoch 6/500\n",
      "163/163 [==============================] - 356s 2s/step - loss: 0.0765 - accuracy: 0.9712 - val_loss: 0.2329 - val_accuracy: 0.9375\n",
      "Epoch 7/500\n",
      "163/163 [==============================] - 356s 2s/step - loss: 0.0661 - accuracy: 0.9755 - val_loss: 0.4089 - val_accuracy: 0.7500\n",
      "Epoch 8/500\n",
      "163/163 [==============================] - 355s 2s/step - loss: 0.0824 - accuracy: 0.9695 - val_loss: 0.1217 - val_accuracy: 0.9375\n",
      "Epoch 9/500\n",
      "163/163 [==============================] - 357s 2s/step - loss: 0.0564 - accuracy: 0.9808 - val_loss: 0.1663 - val_accuracy: 0.9375\n",
      "Epoch 10/500\n",
      "163/163 [==============================] - 357s 2s/step - loss: 0.0544 - accuracy: 0.9793 - val_loss: 0.1512 - val_accuracy: 0.9375\n",
      "Epoch 11/500\n",
      "163/163 [==============================] - 357s 2s/step - loss: 0.0655 - accuracy: 0.9757 - val_loss: 0.3341 - val_accuracy: 0.7500\n",
      "Epoch 12/500\n",
      "163/163 [==============================] - 357s 2s/step - loss: 0.0615 - accuracy: 0.9785 - val_loss: 0.4640 - val_accuracy: 0.7500\n",
      "Epoch 13/500\n",
      "163/163 [==============================] - 356s 2s/step - loss: 0.0850 - accuracy: 0.9734 - val_loss: 0.2896 - val_accuracy: 0.8750\n",
      "Epoch 14/500\n",
      "163/163 [==============================] - 358s 2s/step - loss: 0.0495 - accuracy: 0.9826 - val_loss: 0.3722 - val_accuracy: 0.8750\n",
      "Epoch 15/500\n",
      "163/163 [==============================] - 357s 2s/step - loss: 0.0505 - accuracy: 0.9822 - val_loss: 0.3275 - val_accuracy: 0.8125\n",
      "Epoch 16/500\n",
      "163/163 [==============================] - 357s 2s/step - loss: 0.0584 - accuracy: 0.9791 - val_loss: 0.1721 - val_accuracy: 0.8750\n",
      "Epoch 17/500\n",
      "163/163 [==============================] - 357s 2s/step - loss: 0.0597 - accuracy: 0.9780 - val_loss: 0.3294 - val_accuracy: 0.8750\n",
      "Epoch 18/500\n",
      "163/163 [==============================] - 356s 2s/step - loss: 0.1012 - accuracy: 0.9688 - val_loss: 0.0774 - val_accuracy: 0.9375\n",
      "Epoch 19/500\n",
      "163/163 [==============================] - 357s 2s/step - loss: 0.0434 - accuracy: 0.9850 - val_loss: 0.1191 - val_accuracy: 0.9375\n",
      "Epoch 20/500\n",
      "163/163 [==============================] - 358s 2s/step - loss: 0.0593 - accuracy: 0.9804 - val_loss: 0.8822 - val_accuracy: 0.6250\n",
      "Epoch 21/500\n",
      "163/163 [==============================] - 356s 2s/step - loss: 0.0511 - accuracy: 0.9797 - val_loss: 0.1062 - val_accuracy: 1.0000\n",
      "Epoch 22/500\n",
      "163/163 [==============================] - 355s 2s/step - loss: 0.0354 - accuracy: 0.9872 - val_loss: 0.2829 - val_accuracy: 0.8750\n",
      "Epoch 23/500\n",
      "163/163 [==============================] - 356s 2s/step - loss: 0.0431 - accuracy: 0.9845 - val_loss: 0.1048 - val_accuracy: 0.9375\n",
      "Epoch 24/500\n",
      "163/163 [==============================] - 357s 2s/step - loss: 0.0566 - accuracy: 0.9816 - val_loss: 0.1376 - val_accuracy: 0.8750\n",
      "Epoch 25/500\n",
      "163/163 [==============================] - 355s 2s/step - loss: 0.0366 - accuracy: 0.9877 - val_loss: 0.0978 - val_accuracy: 0.9375\n",
      "Epoch 26/500\n",
      "163/163 [==============================] - 356s 2s/step - loss: 0.0585 - accuracy: 0.9793 - val_loss: 0.2158 - val_accuracy: 0.9375\n",
      "Epoch 27/500\n",
      "163/163 [==============================] - 355s 2s/step - loss: 0.0413 - accuracy: 0.9856 - val_loss: 0.3870 - val_accuracy: 0.8750\n",
      "Epoch 28/500\n",
      "163/163 [==============================] - 356s 2s/step - loss: 0.0506 - accuracy: 0.9826 - val_loss: 0.2275 - val_accuracy: 0.8750\n",
      "Epoch 29/500\n",
      "163/163 [==============================] - 356s 2s/step - loss: 0.0496 - accuracy: 0.9822 - val_loss: 0.3427 - val_accuracy: 0.9375\n",
      "Epoch 30/500\n",
      "163/163 [==============================] - 357s 2s/step - loss: 0.0466 - accuracy: 0.9822 - val_loss: 0.3037 - val_accuracy: 0.9375\n",
      "Epoch 31/500\n",
      "163/163 [==============================] - 356s 2s/step - loss: 0.0381 - accuracy: 0.9868 - val_loss: 0.4212 - val_accuracy: 0.8750\n",
      "Epoch 32/500\n",
      "163/163 [==============================] - 355s 2s/step - loss: 0.0602 - accuracy: 0.9801 - val_loss: 0.2224 - val_accuracy: 0.8750\n",
      "Epoch 33/500\n",
      "163/163 [==============================] - 356s 2s/step - loss: 0.0378 - accuracy: 0.9858 - val_loss: 0.3535 - val_accuracy: 0.8750\n",
      "Epoch 34/500\n",
      "163/163 [==============================] - 356s 2s/step - loss: 0.0371 - accuracy: 0.9879 - val_loss: 0.4455 - val_accuracy: 0.8750\n",
      "Epoch 35/500\n",
      "163/163 [==============================] - 355s 2s/step - loss: 0.0411 - accuracy: 0.9835 - val_loss: 0.2301 - val_accuracy: 0.8750\n",
      "Epoch 36/500\n",
      "163/163 [==============================] - 355s 2s/step - loss: 0.0351 - accuracy: 0.9875 - val_loss: 0.2924 - val_accuracy: 0.9375\n",
      "Epoch 37/500\n",
      "163/163 [==============================] - 354s 2s/step - loss: 0.0275 - accuracy: 0.9900 - val_loss: 0.1720 - val_accuracy: 0.8750\n",
      "Epoch 38/500\n",
      "163/163 [==============================] - 355s 2s/step - loss: 0.0321 - accuracy: 0.9866 - val_loss: 0.4215 - val_accuracy: 0.8750\n"
     ]
    }
   ],
   "source": [
    "r = model.fit(\n",
    "  training_set,\n",
    "  validation_data=val_set,\n",
    "  epochs=500,\n",
    "  steps_per_epoch=len(training_set),\n",
    "  validation_steps=len(val_set),\n",
    "  callbacks=[early_stopping]\n",
    ")"
   ]
  },
  {
   "cell_type": "code",
   "execution_count": 207,
   "metadata": {},
   "outputs": [
    {
     "data": {
      "image/png": "[encoded data removed]",
      "text/plain": [
       "<Figure size 432x288 with 1 Axes>"
      ]
     },
     "metadata": {
      "needs_background": "light"
     },
     "output_type": "display_data"
    },
    {
     "data": {
      "image/png": "[encoded data removed]",
      "text/plain": [
       "<Figure size 432x288 with 1 Axes>"
      ]
     },
     "metadata": {
      "needs_background": "light"
     },
     "output_type": "display_data"
    },
    {
     "data": {
      "text/plain": [
       "<Figure size 432x288 with 0 Axes>"
      ]
     },
     "metadata": {},
     "output_type": "display_data"
    }
   ],
   "source": [
    "plt.plot(r.history['loss'], label='train loss')\n",
    "plt.plot(r.history['val_loss'], label='val loss')\n",
    "plt.legend()\n",
    "plt.show()\n",
    "plt.savefig('LossVal_loss')\n",
    "\n",
    "# plot the accuracy\n",
    "plt.plot(r.history['accuracy'], label='train acc')\n",
    "plt.plot(r.history['val_accuracy'], label='val acc')\n",
    "plt.legend()\n",
    "plt.show()\n",
    "plt.savefig('AccVal_acc')"
   ]
  },
  {
   "cell_type": "code",
   "execution_count": 209,
   "metadata": {},
   "outputs": [],
   "source": [
    "model.save_weights(r'C:\\Users\\Biki\\.vscode\\Project Files\\.vscode\\Pnemonia Prediction\\training_1\\cp.ckpt')"
   ]
  },
  {
   "cell_type": "code",
   "execution_count": 210,
   "metadata": {},
   "outputs": [],
   "source": [
    "from keras.models import load_model\n",
    "\n",
    "model.save(r'C:\\Users\\Biki\\.vscode\\Project Files\\.vscode\\Pnemonia Prediction\\Models\\model_vgg16.h5')"
   ]
  }
 ],
 "metadata": {
  "interpreter": {
   "hash": "82b1be24d299dcf9ba23b3b20d7cd21ae55cc7235f7283fb0f6efbfe25cbd24b"
  },
  "kernelspec": {
   "display_name": "Python 3.9.12 ('myenv')",
   "language": "python",
   "name": "python3"
  },
  "language_info": {
   "codemirror_mode": {
    "name": "ipython",
    "version": 3
   },
   "file_extension": ".py",
   "mimetype": "text/x-python",
   "name": "python",
   "nbconvert_exporter": "python",
   "pygments_lexer": "ipython3",
   "version": "3.9.12"
  },
  "orig_nbformat": 4
 },
 "nbformat": 4,
 "nbformat_minor": 2
}

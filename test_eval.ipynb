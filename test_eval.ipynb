{
 "cells": [
  {
   "cell_type": "code",
   "execution_count": 7,
   "metadata": {},
   "outputs": [],
   "source": [
    "from keras.models import load_model\n",
    "from sklearn.metrics import classification_report, confusion_matrix\n",
    "from keras.applications.vgg16 import VGG16\n",
    "from keras.layers import Input, Lambda, Dense, Flatten\n",
    "from keras.models import Model, load_model\n",
    "from keras.preprocessing.image import ImageDataGenerator\n",
    "import numpy as np"
   ]
  },
  {
   "cell_type": "code",
   "execution_count": 8,
   "metadata": {},
   "outputs": [
    {
     "name": "stdout",
     "output_type": "stream",
     "text": [
      "Found 624 images belonging to 2 classes.\n"
     ]
    }
   ],
   "source": [
    "test_datagen = ImageDataGenerator(rescale=1./255)\n",
    "test_set = test_datagen.flow_from_directory('chest_xray/test',\n",
    "                                            target_size=(224, 224),\n",
    "                                            batch_size=32,\n",
    "                                            class_mode='categorical', \n",
    "                                            shuffle=False)  # Ensure that it doesn't shuffle the data"
   ]
  },
  {
   "cell_type": "code",
   "execution_count": 9,
   "metadata": {},
   "outputs": [],
   "source": [
    "vgg = VGG16(input_shape=[224,224] + [3], weights='imagenet', include_top=False)\n",
    "for layer in vgg.layers:\n",
    "    layer.trainable = False\n",
    "x = Flatten()(vgg.output)\n",
    "prediction = Dense(2, activation='softmax')(x)\n",
    "model = Model(inputs=vgg.input, outputs=prediction)"
   ]
  },
  {
   "cell_type": "code",
   "execution_count": 10,
   "metadata": {},
   "outputs": [
    {
     "data": {
      "text/plain": [
       "<tensorflow.python.training.tracking.util.CheckpointLoadStatus at 0x2042ba56a90>"
      ]
     },
     "execution_count": 10,
     "metadata": {},
     "output_type": "execute_result"
    }
   ],
   "source": [
    "model.load_weights('training_1/cp.ckpt')"
   ]
  },
  {
   "cell_type": "code",
   "execution_count": 11,
   "metadata": {},
   "outputs": [],
   "source": [
    "model.compile(optimizer='adam', loss='categorical_crossentropy', metrics=['accuracy'])"
   ]
  },
  {
   "cell_type": "code",
   "execution_count": 12,
   "metadata": {},
   "outputs": [
    {
     "name": "stdout",
     "output_type": "stream",
     "text": [
      "20/20 [==============================] - 14s 430ms/step - loss: 0.3711 - accuracy: 0.9231\n"
     ]
    }
   ],
   "source": [
    "test_loss, test_accuracy = model.evaluate(test_set, steps=len(test_set), batch_size=8)"
   ]
  },
  {
   "cell_type": "code",
   "execution_count": 13,
   "metadata": {},
   "outputs": [
    {
     "name": "stdout",
     "output_type": "stream",
     "text": [
      "20/20 [==============================] - 6s 275ms/step\n"
     ]
    }
   ],
   "source": [
    "predictions = model.predict(test_set, steps=len(test_set))"
   ]
  },
  {
   "cell_type": "code",
   "execution_count": 14,
   "metadata": {},
   "outputs": [],
   "source": [
    "true_labels = test_set.classes\n"
   ]
  },
  {
   "cell_type": "code",
   "execution_count": 15,
   "metadata": {},
   "outputs": [],
   "source": [
    "predicted_labels = np.argmax(predictions, axis=1)"
   ]
  },
  {
   "cell_type": "code",
   "execution_count": 16,
   "metadata": {},
   "outputs": [
    {
     "name": "stdout",
     "output_type": "stream",
     "text": [
      "Test Loss: 0.3711\n",
      "Test Accuracy: 0.9231\n",
      "\n",
      "Classification Report:\n",
      "               precision    recall  f1-score   support\n",
      "\n",
      "      NORMAL       0.92      0.87      0.89       234\n",
      "   PNEUMONIA       0.92      0.96      0.94       390\n",
      "\n",
      "    accuracy                           0.92       624\n",
      "   macro avg       0.92      0.91      0.92       624\n",
      "weighted avg       0.92      0.92      0.92       624\n",
      "\n",
      "\n",
      "Confusion Matrix:\n",
      " [[203  31]\n",
      " [ 17 373]]\n"
     ]
    }
   ],
   "source": [
    "report = classification_report(true_labels, predicted_labels, target_names=test_set.class_indices.keys())\n",
    "confusion = confusion_matrix(true_labels, predicted_labels)\n",
    "\n",
    "# Print the test accuracy and other metrics\n",
    "print(f'Test Loss: {test_loss:.4f}')\n",
    "print(f'Test Accuracy: {test_accuracy:.4f}')\n",
    "print('\\nClassification Report:\\n', report)\n",
    "print('\\nConfusion Matrix:\\n', confusion)"
   ]
  }
 ],
 "metadata": {
  "kernelspec": {
   "display_name": "venv1",
   "language": "python",
   "name": "python3"
  },
  "language_info": {
   "codemirror_mode": {
    "name": "ipython",
    "version": 3
   },
   "file_extension": ".py",
   "mimetype": "text/x-python",
   "name": "python",
   "nbconvert_exporter": "python",
   "pygments_lexer": "ipython3",
   "version": "3.9.0"
  },
  "orig_nbformat": 4
 },
 "nbformat": 4,
 "nbformat_minor": 2
}
